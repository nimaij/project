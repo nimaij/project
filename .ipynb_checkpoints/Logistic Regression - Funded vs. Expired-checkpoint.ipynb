{
 "cells": [
  {
   "cell_type": "code",
   "execution_count": 8,
   "metadata": {
    "collapsed": false
   },
   "outputs": [],
   "source": [
    "# To do:\n",
    "# Add advanced lab information"
   ]
  },
  {
   "cell_type": "markdown",
   "metadata": {},
   "source": [
    "### Overview of variables"
   ]
  },
  {
   "cell_type": "code",
   "execution_count": 9,
   "metadata": {
    "collapsed": false
   },
   "outputs": [],
   "source": [
    "from sklearn import tree\n",
    "import pandas as pd\n",
    "import numpy as np\n",
    "from sklearn.cross_validation import train_test_split\n",
    "from sklearn import metrics\n",
    "import matplotlib.pyplot as plt\n",
    "import pylab as pl\n",
    "\n",
    "%matplotlib inline\n",
    "\n",
    "import pandas as pd\n",
    "df = pd.read_csv('/Users/jiaminlim93/Desktop/GA Data Science Course/project/project/variables.csv')\n",
    "y=df['status_bin']\n",
    "#y=y.to_frame()\n",
    "X=df.drop('status_bin', axis=1)"
   ]
  },
  {
   "cell_type": "markdown",
   "metadata": {},
   "source": [
    "## Logistic Regression"
   ]
  },
  {
   "cell_type": "code",
   "execution_count": 10,
   "metadata": {
    "collapsed": true
   },
   "outputs": [],
   "source": [
    "# Split to testing and training models\n",
    "X_train, X_test, y_train, y_test = train_test_split(X, y, random_state=1)\n"
   ]
  },
  {
   "cell_type": "code",
   "execution_count": 11,
   "metadata": {
    "collapsed": false
   },
   "outputs": [],
   "source": [
    "# fit a linear regression model and store the class predictions\n",
    "from sklearn.linear_model import LogisticRegression\n",
    "logreg = LogisticRegression(C=1e9)\n",
    "logregmodel= logreg.fit(X_train, y_train)\n"
   ]
  },
  {
   "cell_type": "markdown",
   "metadata": {},
   "source": [
    "### Evaluate"
   ]
  },
  {
   "cell_type": "code",
   "execution_count": 12,
   "metadata": {
    "collapsed": false
   },
   "outputs": [
    {
     "name": "stdout",
     "output_type": "stream",
     "text": [
      "Confusion matrix, without normalization\n",
      "[[246203    438]\n",
      " [  8680     75]]\n"
     ]
    },
    {
     "data": {
      "image/png": "[encoded data removed]",
      "text/plain": [
       "<matplotlib.figure.Figure at 0x1041b9490>"
      ]
     },
     "metadata": {},
     "output_type": "display_data"
    }
   ],
   "source": [
    "%run confusion_matrix_nice.JL\n",
    "y_pred_class = logreg.predict(X_test)\n",
    "\n",
    "# plot an attractive confusion matrix\n",
    "cnf_mat = metrics.confusion_matrix(y_test, y_pred_class, labels = df.status_bin.unique())\n",
    "class_labels = df.status_bin.unique()\n",
    "plt.figure()\n",
    "plot_confusion_matrix(cnf_mat, class_labels,\n",
    "                          normalize=False,\n",
    "                          title='Confusion matrix',\n",
    "                          cmap=plt.cm.Blues)\n",
    "plt.show()"
   ]
  },
  {
   "cell_type": "code",
   "execution_count": 13,
   "metadata": {
    "collapsed": false
   },
   "outputs": [
    {
     "data": {
      "text/plain": [
       "0.81079589105654182"
      ]
     },
     "execution_count": 13,
     "metadata": {},
     "output_type": "execute_result"
    }
   ],
   "source": [
    "# Accuracy score\n",
    "metrics.accuracy_score(y_test, y_pred_class)\n",
    "# Make predictions on the test set using predict_proba; returns a list of predicted probabilities for the test set\n",
    "# ROC score\n",
    "probs = logregmodel.predict_proba(X_test)[:,1]\n",
    "metrics.roc_auc_score(y_test, probs)\n"
   ]
  },
  {
   "cell_type": "code",
   "execution_count": 14,
   "metadata": {
    "collapsed": false
   },
   "outputs": [
    {
     "data": {
      "text/plain": [
       "array([['Education', -0.5373555605020969],\n",
       "       ['AF', -0.40667470104925907],\n",
       "       ['Arts', -0.22532482053082356],\n",
       "       ['female_borrowers_count', -0.20126573369910633],\n",
       "       ['AS', -0.19080471178571223],\n",
       "       ['Manufacturing', -0.1874753482434185],\n",
       "       ['Services', -0.1817739433231302],\n",
       "       ['Construction', -0.17074933458254973],\n",
       "       ['Food', -0.1343606866826998],\n",
       "       ['Health', -0.13288468735866513],\n",
       "       ['Entertainment', -0.029522307996413276],\n",
       "       ['Wholesale', -0.022167069157503678],\n",
       "       ['OC', -0.020619243269891244],\n",
       "       ['EU', -0.012748633809317868],\n",
       "       ['Agriculture', -0.005330173649317188],\n",
       "       ['posted_year', -0.002053834343553845],\n",
       "       ['loan_amount', 0.000393251598876402],\n",
       "       ['loan_term_in_months', 0.03232233613740437],\n",
       "       ['Personal Use', 0.07810602792408312],\n",
       "       ['Transportation', 0.1443224497274315],\n",
       "       ['Clothing', 0.18085910117722684],\n",
       "       ['male_borrowers_count', 0.20669405512741792],\n",
       "       ['SA', 0.21466426262869678],\n",
       "       ['NO', 0.4122110087642006],\n",
       "       ['Retail', 0.49412034706004004],\n",
       "       ['Housing', 0.7193153506404547]], dtype=object)"
      ]
     },
     "execution_count": 14,
     "metadata": {},
     "output_type": "execute_result"
    }
   ],
   "source": [
    "features = X_train.columns.values\n",
    "coefs= logregmodel.coef_.transpose()\n",
    "coefs.shape\n",
    "\n",
    "output = np.column_stack((features, coefs))\n",
    "output\n",
    "output[output[:,1].argsort()]\n",
    "# Important features: Housing, Retail, North America"
   ]
  },
  {
   "cell_type": "code",
   "execution_count": 17,
   "metadata": {
    "collapsed": false
   },
   "outputs": [
    {
     "data": {
      "text/plain": [
       "array(['loan_amount', 'male_borrowers_count', 'female_borrowers_count',\n",
       "       'loan_term_in_months', 'AF', 'AS', 'EU', 'NO', 'OC', 'SA',\n",
       "       'Agriculture', 'Arts', 'Clothing', 'Construction', 'Education',\n",
       "       'Entertainment', 'Food', 'Health', 'Housing', 'Manufacturing',\n",
       "       'Personal Use', 'Retail', 'Services', 'Transportation', 'Wholesale',\n",
       "       'posted_year'], dtype=object)"
      ]
     },
     "execution_count": 17,
     "metadata": {},
     "output_type": "execute_result"
    }
   ],
   "source": [
    "features"
   ]
  },
  {
   "cell_type": "code",
   "execution_count": 30,
   "metadata": {
    "collapsed": false
   },
   "outputs": [
    {
     "name": "stdout",
     "output_type": "stream",
     "text": [
      "[ 0.8899856]\n",
      "[ 0.02335229]\n"
     ]
    },
    {
     "name": "stderr",
     "output_type": "stream",
     "text": [
      "/Users/jiaminlim93/anaconda/lib/python2.7/site-packages/sklearn/utils/validation.py:395: DeprecationWarning: Passing 1d arrays as data is deprecated in 0.17 and will raise ValueError in 0.19. Reshape your data either using X.reshape(-1, 1) if your data has a single feature or X.reshape(1, -1) if it contains a single sample.\n",
      "  DeprecationWarning)\n",
      "/Users/jiaminlim93/anaconda/lib/python2.7/site-packages/sklearn/utils/validation.py:395: DeprecationWarning: Passing 1d arrays as data is deprecated in 0.17 and will raise ValueError in 0.19. Reshape your data either using X.reshape(-1, 1) if your data has a single feature or X.reshape(1, -1) if it contains a single sample.\n",
      "  DeprecationWarning)\n"
     ]
    }
   ],
   "source": [
    "# compute predicted probability that it will expire: housing vs non-housing using the predict_proba method\n",
    "print logregmodel.predict_proba([1000,20,1,24.0,0,0,0,1,0,0,0,0,0,0,0,0,0,0,1,0,0,0,0,0,0,2012])[:, 1] #housing\n",
    "print logregmodel.predict_proba([1000,0,1,12.0,0,0,0,0,0,0,0,0,0,1,0,0,0,0,0,0,0,0,0,0,0,2012])[:, 1] #not housing, but education\n",
    "\n"
   ]
  },
  {
   "cell_type": "code",
   "execution_count": null,
   "metadata": {
    "collapsed": true
   },
   "outputs": [],
   "source": [
    "#http://stackoverflow.com/questions/24255723/sklearn-logistic-regression-important-features"
   ]
  },
  {
   "cell_type": "code",
   "execution_count": null,
   "metadata": {
    "collapsed": false
   },
   "outputs": [],
   "source": [
    "# http://scikit-learn.org/stable/modules/linear_model.html#logistic-regression \n",
    "# http://scikit-learn.org/stable/modules/feature_selection.html\n",
    "# use RidgeCV to select best alpha\n",
    "# as alpha increases, coef approach zero\n",
    "from sklearn.linear_model import RidgeCV\n",
    "alpha_range = 10.**np.arange(-2, 3)\n",
    "rregcv = RidgeCV(normalize=True, scoring='mean_squared_error', alphas=alpha_range, cv=5)\n",
    "rregcv.fit(X_train, y_train)\n",
    "rregcv.alpha_\n",
    "preds = rregcv.predict(X_test)\n",
    "print 'RMSE (Ridge CV reg.) =', np.sqrt(metrics.mean_squared_error(y_test, preds))\n",
    "# What is the range of alpha values we are searching over?\n",
    "alpha_range\n",
    "rregcv.alpha_\n",
    "print rregcv.coef_"
   ]
  },
  {
   "cell_type": "code",
   "execution_count": null,
   "metadata": {
    "collapsed": false
   },
   "outputs": [],
   "source": [
    "# LassoCV\n",
    "# as alpha increases, coef equal zero\n",
    "from sklearn.linear_model import Lasso\n",
    "las = Lasso(alpha=0.00001, normalize=True)\n",
    "las.fit(X_train, y_train)\n",
    "las.coef_\n",
    "preds = las.predict(X_test)\n",
    "print 'RMSE (Lasso reg.) =', np.sqrt(metrics.mean_squared_error(y_test, preds))\n",
    "print las.coef_\n",
    "lascoefs= las.coef_.transpose()\n",
    "lascoefs.shape\n",
    "\n",
    "lasoutput = np.column_stack((features, lascoefs))\n",
    "lasoutput"
   ]
  },
  {
   "cell_type": "code",
   "execution_count": null,
   "metadata": {
    "collapsed": false
   },
   "outputs": [],
   "source": [
    "# use LassoCV to select best alpha (tries 100 alphas by default)\n",
    "from sklearn.linear_model import LassoCV\n",
    "alpha_range = 0.1**np.arange(-2, 8)\n",
    "lascv = LassoCV(normalize=True, alphas=alpha_range, cv=5)\n",
    "lascv.fit(X_train, y_train)\n",
    "preds = lascv.predict(X_test)\n",
    "print 'RMSE (Lasso CV reg.) =', np.sqrt(metrics.mean_squared_error(y_test, preds))\n",
    "print lascv.alpha_\n",
    "print lascv.coef_"
   ]
  },
  {
   "cell_type": "code",
   "execution_count": null,
   "metadata": {
    "collapsed": false
   },
   "outputs": [],
   "source": [
    "alpha_range"
   ]
  },
  {
   "cell_type": "markdown",
   "metadata": {},
   "source": [
    "### Cross Validation"
   ]
  },
  {
   "cell_type": "code",
   "execution_count": null,
   "metadata": {
    "collapsed": false
   },
   "outputs": [],
   "source": [
    "from sklearn.cross_validation import cross_val_score\n",
    "logreg = LogisticRegression()\n",
    "print cross_val_score(logreg, X, y, cv=5, scoring='roc_auc').mean()\n",
    "print cross_val_score(logreg, X, y, cv=5, scoring='accuracy').mean()"
   ]
  },
  {
   "cell_type": "code",
   "execution_count": null,
   "metadata": {
    "collapsed": true
   },
   "outputs": [],
   "source": [
    "variables1 = pd.concat([df['status_bin'],df['loan_amount'],df['male_borrowers_count'],df['female_borrowers_count'],df['loan_term_in_months'],df['NO'],df['Housing'],df['posted_year']], axis=1)\n",
    "variables1.to_csv('variables1.csv', index=False)"
   ]
  }
 ],
 "metadata": {
  "anaconda-cloud": {},
  "kernelspec": {
   "display_name": "Python [conda root]",
   "language": "python",
   "name": "conda-root-py"
  },
  "language_info": {
   "codemirror_mode": {
    "name": "ipython",
    "version": 2
   },
   "file_extension": ".py",
   "mimetype": "text/x-python",
   "name": "python",
   "nbconvert_exporter": "python",
   "pygments_lexer": "ipython2",
   "version": "2.7.12"
  }
 },
 "nbformat": 4,
 "nbformat_minor": 1
}
